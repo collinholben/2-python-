{
 "cells": [
  {
   "cell_type": "code",
   "execution_count": 2,
   "metadata": {},
   "outputs": [],
   "source": [
    "from pathlib import Path\n",
    "import csv\n",
    "\n",
    "csvpath = Path(\"budget_data.csv\")"
   ]
  },
  {
   "cell_type": "code",
   "execution_count": 3,
   "metadata": {},
   "outputs": [],
   "source": [
    "# Initialize variables and create a list for each column and assign numerical \n",
    "# value to date (i.e. \"months\") to be able to count\n",
    "months = 0\n",
    "pnl = []\n",
    "dates = []\n",
    "\n",
    "# Open the csv file as an object\n",
    "with open(csvpath, \"r\") as csvfile:\n",
    "\n",
    "    # Pass in the csv file to the csv.reader() function\n",
    "    # (with ',' as the delmiter/separator) and return the csvreader object\n",
    "    # and remove header\n",
    "    csvreader = csv.reader(csvfile, delimiter=\",\")\n",
    "    next(csvreader, None)\n",
    "    \n",
    "    # Read each row of data after the header\n",
    "    for row in csvreader:\n",
    "       \n",
    "        # Set the 'Date' and 'Profit/Losses' variables for better\n",
    "        # readability\n",
    "        months += 1\n",
    "        dates.append(row[0])\n",
    "        pnl.append(int(row[1]))"
   ]
  },
  {
   "cell_type": "code",
   "execution_count": 6,
   "metadata": {},
   "outputs": [
    {
     "name": "stdout",
     "output_type": "stream",
     "text": [
      "Financial Analysis\n",
      "--------------------------\n",
      "Total Months: 86\n",
      "Total: $38382578\n",
      "Average Change: $-2315.12\n",
      "Greatest Increase in Profits: Feb-2012 $(1926159)\n",
      "Greatest Decrease in Profits: Sep-2013 $(-2196167)\n"
     ]
    }
   ],
   "source": [
    "# Initialize variables\n",
    "total_pnl = pnl[0]\n",
    "totaled_delta = 0\n",
    "greatest_increase = 0\n",
    "greatest_decrease = 0\n",
    "\n",
    "# Need to start at 1 rather than 0, since I eliminated the header, so we can calculate the change in profit below \n",
    "# I need to put the first month's profit into total profit\n",
    "\n",
    "for x in range (1, months):\n",
    "    # Add current month's profit to total profits\n",
    "    total_pnl += pnl[x]\n",
    "    \n",
    "    # Calculate the change/delta between this month and the prior month \n",
    "    # and then add it to the totaled change/delta\n",
    "    current_delta = pnl[x] - pnl[x-1]\n",
    "    totaled_delta += current_delta\n",
    "    \n",
    "    # Calculate the average change/delta. Note: since you are calculating delta's, there is 1 less result in total count\n",
    "    avg_delta = totaled_delta/(months - 1)\n",
    "    \n",
    "    # Use if/else logic to check if the current change/delta was the greatest increase/decrease\n",
    "    if current_delta > greatest_increase:\n",
    "        greatest_increase = current_delta\n",
    "        greatest_increase_date = dates[x]\n",
    "    elif current_delta < greatest_decrease:\n",
    "        greatest_decrease = current_delta\n",
    "        greatest_decrease_date = dates[x]\n",
    "        \n",
    "print(\"Financial Analysis\")\n",
    "print(\"--------------------------\")\n",
    "print(f\"Total Months: {months}\")\n",
    "print(f\"Total: ${total_pnl}\")\n",
    "print(f\"Average Change: ${avg_delta:.2f}\")\n",
    "print(f\"Greatest Increase in Profits: {greatest_increase_date} $({greatest_increase})\")\n",
    "print(f\"Greatest Decrease in Profits: {greatest_decrease_date} $({greatest_decrease})\")\n",
    "output_path = Path(\"pybank_output1.txt\")"
   ]
  },
  {
   "cell_type": "code",
   "execution_count": null,
   "metadata": {},
   "outputs": [],
   "source": []
  }
 ],
 "metadata": {
  "kernelspec": {
   "display_name": "Python 3",
   "language": "python",
   "name": "python3"
  },
  "language_info": {
   "codemirror_mode": {
    "name": "ipython",
    "version": 3
   },
   "file_extension": ".py",
   "mimetype": "text/x-python",
   "name": "python",
   "nbconvert_exporter": "python",
   "pygments_lexer": "ipython3",
   "version": "3.8.3"
  }
 },
 "nbformat": 4,
 "nbformat_minor": 4
}
